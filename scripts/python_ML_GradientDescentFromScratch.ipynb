{
 "cells": [
  {
   "cell_type": "markdown",
   "metadata": {},
   "source": [
    "# MACHINE LEARNING: GRADIENT DESCENT IMPLEMENTATION\n",
    "\n",
    "This notebook let us implement gradient descent algorithm from scratch. I want to express gratitude to [this notebook](https://gist.github.com/sagarmainkar/41d135a04d7d3bc4098f0664fe20cf3c) for providing the open source code for implementation. If interested, feel free to check out the above github for more illustration."
   ]
  },
  {
   "cell_type": "code",
   "execution_count": 1,
   "metadata": {},
   "outputs": [],
   "source": [
    "# libraries\n",
    "import numpy as np\n",
    "import matplotlib.pyplot as plt\n",
    "%matplotlib inline\n",
    "plt.style.use(['ggplot'])"
   ]
  },
  {
   "cell_type": "markdown",
   "metadata": {},
   "source": [
    "### Create Data\n",
    "\n",
    "Data gen:\n",
    "$$\\theta_0 = 4, \\theta_1 = 3$$\n",
    "\n",
    "add noise, as well as generate $x$ and $y$"
   ]
  },
  {
   "cell_type": "code",
   "execution_count": 2,
   "metadata": {},
   "outputs": [],
   "source": [
    "X = 2 * np.random.rand(100, 1)\n",
    "y = 4 + 3 * X + np.random.randn(100, 1) # y ~ linear model "
   ]
  },
  {
   "cell_type": "code",
   "execution_count": 4,
   "metadata": {},
   "outputs": [
    {
     "data": {
      "image/png": "[encoded data removed]",
      "text/plain": [
       "<Figure size 432x288 with 1 Axes>"
      ]
     },
     "metadata": {},
     "output_type": "display_data"
    }
   ],
   "source": [
    "# visualization\n",
    "plt.plot(X, y, 'b.')\n",
    "plt.xlabel(\"x\", fontsize = 10)\n",
    "plt.ylabel(\"y\", fontsize = 10, rotation = 0)\n",
    "_ =plt.axis([0, 2, 0, 15])"
   ]
  },
  {
   "cell_type": "code",
   "execution_count": 5,
   "metadata": {},
   "outputs": [
    {
     "name": "stdout",
     "output_type": "stream",
     "text": [
      "[[ 3.60541117]\n",
      " [ 3.27067296]]\n"
     ]
    }
   ],
   "source": [
    "X_b = np.c_[np.ones((100, 1)), X]\n",
    "theta_best = np.linalg.inv(X_b.T.dot(X_b)).dot(X_b.T).dot(y)\n",
    "print(theta_best)"
   ]
  },
  {
   "cell_type": "markdown",
   "metadata": {},
   "source": [
    "### Gradient Descent\n",
    "\n",
    "Cost:\n",
    "$$J(\\theta) = 1/2 \\sum_{i=1}^m (h(\\theta)_{(i)} - y_{(i)})^2$$\n",
    "\n",
    "Compute gradient:\n",
    "$$\\frac{\\partial J(\\theta)}{\\partial \\theta} = \\frac{1}{m} \\sum_i (h(\\theta) - y) \\cdot X_j$$\n",
    "\n",
    "next, we update our parameters $\\theta_0$, $\\theta_1$, etc.."
   ]
  },
  {
   "cell_type": "code",
   "execution_count": 6,
   "metadata": {},
   "outputs": [],
   "source": [
    "def cal_cost(theta, X, y):\n",
    "    m = len(y)\n",
    "    predictions = X.dot(theta)\n",
    "    cost = (1/2 * m) * np.sum(np.square(predictions - y))\n",
    "    return cost"
   ]
  },
  {
   "cell_type": "code",
   "execution_count": 9,
   "metadata": {},
   "outputs": [],
   "source": [
    "def gradient_descent(X, y, theta, learning_rate = 0.01, iterations = 100):\n",
    "    m = len(y)\n",
    "    cost_history = np.zeros(iterations)\n",
    "    theta_history = np.zeros((iterations, 2))\n",
    "    \n",
    "    # update\n",
    "    for it in range(iterations):\n",
    "        prediction = np.dot(X, theta)\n",
    "        theta = theta - (1/m)*learning_rate*(X.T.dot((prediction - y)))\n",
    "        theta_history[it, :] = theta.T\n",
    "        cost_history[it] = cal_cost(theta, X, y)\n",
    "        \n",
    "    return theta, cost_history, theta_history"
   ]
  },
  {
   "cell_type": "code",
   "execution_count": 13,
   "metadata": {},
   "outputs": [
    {
     "name": "stdout",
     "output_type": "stream",
     "text": [
      "Theta0: 3.612, \n",
      "Theta1: 3.265\n",
      "Final cost: 5657.080\n"
     ]
    }
   ],
   "source": [
    "# training in progress\n",
    "lr = 0.01\n",
    "n_iter = 3000\n",
    "theta = np.random.randn(2, 1)\n",
    "X_b = np.c_[np.ones((len(X), 1)), X]\n",
    "theta, cost_history, theta_history = gradient_descent(X_b, y, theta, lr, n_iter)\n",
    "\n",
    "# output disply\n",
    "print('Theta0: {:0.3f}, \\nTheta1: {:0.3f}'.format(theta[0][0], theta[1][0]))\n",
    "print('Final cost: {:0.3f}'.format(cost_history[-1]))"
   ]
  },
  {
   "cell_type": "markdown",
   "metadata": {},
   "source": [
    "### Performance Visualization"
   ]
  },
  {
   "cell_type": "code",
   "execution_count": 14,
   "metadata": {},
   "outputs": [
    {
     "data": {
      "image/png": "[encoded data removed]",
      "text/plain": [
       "<Figure size 720x576 with 1 Axes>"
      ]
     },
     "metadata": {},
     "output_type": "display_data"
    }
   ],
   "source": [
    "# plot performance\n",
    "fig, ax = plt.subplots(figsize=(10,8))\n",
    "ax.set_ylabel('J(Theta)')\n",
    "ax.set_xlabel('Iterations')\n",
    "_ =ax.plot(range(n_iter), cost_history, 'b.')"
   ]
  },
  {
   "cell_type": "markdown",
   "metadata": {},
   "source": [
    "Investigation ends here."
   ]
  }
 ],
 "metadata": {
  "kernelspec": {
   "display_name": "Python 3",
   "language": "python",
   "name": "python3"
  },
  "language_info": {
   "codemirror_mode": {
    "name": "ipython",
    "version": 3
   },
   "file_extension": ".py",
   "mimetype": "text/x-python",
   "name": "python",
   "nbconvert_exporter": "python",
   "pygments_lexer": "ipython3",
   "version": "3.6.2"
  }
 },
 "nbformat": 4,
 "nbformat_minor": 2
}
